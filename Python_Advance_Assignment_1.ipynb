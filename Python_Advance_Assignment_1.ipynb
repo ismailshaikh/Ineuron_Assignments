{
 "cells": [
  {
   "cell_type": "markdown",
   "metadata": {},
   "source": [
    "#### Q1. What is the purpose of Python's OOP?\n",
    "1. Python's Object Oriented Programming (OOP) allow programmers to create reusable and modular code by organizing data and functionality into objects which can be instantiated and manipulated.\n",
    "2. The main purpose of python's oop is to provide a way to structure code in a way that makes it easier to manage and maintain over time."
   ]
  },
  {
   "cell_type": "markdown",
   "metadata": {},
   "source": [
    "#### Q2. Where does an inheritance search look for an attribute?\n",
    "\n",
    "1. In Inheritance if subclass does not have an attribute python will first look for the attribute in the subclass's dictionary. \n",
    "2. if the attribute is not found in the subclass's dictionary, python will look for the attribute in the superclass's dictionary.\n",
    "3. if the attribute is still not found in the superclass's dictionary python will continue up the inheritance chain looking for the attribute in each successive superclass's dictionary until it either finds the attribute or reaches the top of the inheritance chain (i.e. root object class) this process is called Method Resolution Order (MRO)\n",
    "4. the MRO can be accessed using the built-in mro() method on a class."
   ]
  },
  {
   "cell_type": "markdown",
   "metadata": {},
   "source": [
    "#### Q3. How do you distinguish between a class object and an instance object?\n",
    "\n",
    "1. In Python, a Class Object is a Blueprint for creating Instances, while an Instance Object is a Specific Object is created From a Class.\n",
    "2.  **CREATION:** Class Object is created when the **'class'** keyword is used to define a new class , and Instance Object is created by calling the class, which creates a new instance of the class.\n",
    "3. **ACCESS:** Class object are accessed through the class name while instance objects are accessed through an instance variable.\n",
    "4. **ATTRIBUTES:** Class objects can have class-level Attributes which shared by all instances of the class. Instance objects can have instance-level Attributees which are specific to each instance of the classs.\n",
    "5. **'self' PARAMETER:** WHen method is define in class the first paramete is usually 'self',which refer to the instance object that the method is being called on. Class Level methods does not take a 'self' parameter.\n"
   ]
  },
  {
   "cell_type": "markdown",
   "metadata": {},
   "source": [
    "#### Q4. What makes the first argument in a class’s method function special?\n",
    "\n",
    "1. In Python, the first argument in a class's method function is conventionally named \"self\" and refers to the instance of the class that the method is being called on. This argument is special because it allows the method to access and modify the object's attributes and call other methods within the same class.\n",
    "\n",
    "2. A class method is similar to an instance method, but it has a class object passed as its first argument. Recall that, when an instance method is called from an instance object, that instance object is automatically passed as the first argument to the method.\n"
   ]
  },
  {
   "cell_type": "markdown",
   "metadata": {},
   "source": [
    "#### Q5. What is the purpose of the __init__ method?\n",
    "\n",
    "1. The **____init___ _**  method lets the class initialize the objects attributes and serves no other purpose.\n",
    "2. it is only used within class.\n",
    "3. When a new object is created from a class the **'___init__ _'** method is automatically called with the newly created object as its first argument Which conventionally is named **'self'**.\n"
   ]
  },
  {
   "cell_type": "markdown",
   "metadata": {},
   "source": [
    "#### Q6. What is the process for creating a class instance?\n",
    "\n",
    "To Create an Instance of a class in python you need to follow these steps:\n",
    "1. **Define the class:** First , define the class that you want to create an instance of. the classs shpuld have a constructor method called **'___init__ _'** that initializes the object's attributes.\n",
    "2. **Create the instance:** To Create an instance of the class, call the class constructor method with any required arguments. This created a new instance of the classs and returns it to you.\n",
    "\n"
   ]
  },
  {
   "cell_type": "markdown",
   "metadata": {},
   "source": [
    "#### Q7. What is the process for creating a class?\n",
    "To Create a clas you need to follow these steps:\n",
    "1. **Define the Class:** first use the **'class'** keyword followed by the name of the clss to define the class. inside the class you cna define the attributes and method of the class.\n",
    "2. **Define the Constructor:** The constructor is a special method called '___init__ _'** that is called when an object of the class is created. inside the constructor you can initialize the object's attribute\n",
    "3. **Define other Method:** You can define other methods in the class that perform various operations on the object's attributes.\n",
    "\n"
   ]
  },
  {
   "cell_type": "markdown",
   "metadata": {},
   "source": [
    "#### Q8. How would you define the superclasses of a class?\n",
    "\n",
    "1. In Python you can define a Superclass for a class by specifying it in parentheses after the classs name in the class definition"
   ]
  },
  {
   "cell_type": "code",
   "execution_count": 2,
   "metadata": {},
   "outputs": [],
   "source": [
    "class Animal:\n",
    "    def __init__(self, name):\n",
    "        self.name = name\n",
    "        \n",
    "        \n",
    "class Dog(Animal):\n",
    "    def __init__(self, name, breed):\n",
    "        super().__init__(name)\n",
    "        self.breed = breed"
   ]
  },
  {
   "cell_type": "markdown",
   "metadata": {},
   "source": [
    "2. In this example, we define a **'Animal'** class with a constructor method that takes a **'name'** argument, and a **'Dog'** class that inherits from the **'Animal'** class using the syntax class **'Dog(Animal)'**. The **'Dog'** class has its own constructor method that takes a **'name'** and **'breed'** argument.\n",
    "3. To call the constructor of the superclass **'Animal'** from the **'Dog'** class, we use the **'super()'** function inside the **'Dog'** class's constructor, like this: **'super().__init__(name)'**. This calls the constructor of the superclass **'Animal'** with the **'name'** argument."
   ]
  },
  {
   "cell_type": "markdown",
   "metadata": {},
   "source": [
    "   "
   ]
  },
  {
   "cell_type": "markdown",
   "metadata": {},
   "source": [
    "   "
   ]
  }
 ],
 "metadata": {
  "kernelspec": {
   "display_name": "Python 3",
   "language": "python",
   "name": "python3"
  },
  "language_info": {
   "codemirror_mode": {
    "name": "ipython",
    "version": 3
   },
   "file_extension": ".py",
   "mimetype": "text/x-python",
   "name": "python",
   "nbconvert_exporter": "python",
   "pygments_lexer": "ipython3",
   "version": "3.8.5"
  }
 },
 "nbformat": 4,
 "nbformat_minor": 4
}
