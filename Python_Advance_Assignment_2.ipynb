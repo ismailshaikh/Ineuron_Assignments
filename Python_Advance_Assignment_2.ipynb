{
 "cells": [
  {
   "cell_type": "markdown",
   "metadata": {},
   "source": [
    "#### Q1. What is the relationship between classes and modules?\n",
    "\n",
    "1. In Python, classes and modules are both important constructs for organizing code and data, but they serve different purposes.\n",
    "2. A **module** is a file containing Python code that defines functions, classes, and other objects. Modules can be used to organize related code into separate files, to reuse code across multiple programs, and to share code with other developers.\n",
    "3. A **class**, on the other hand, is a blueprint for creating objects that have certain attributes and behaviors. Classes can be used to represent real-world objects, to encapsulate data and methods into a single entity, and to create reusable code that can be used across multiple parts of a program."
   ]
  },
  {
   "cell_type": "markdown",
   "metadata": {},
   "source": [
    "#### Q2. How do you make instances and classes?\n",
    "1. To Create Instances of a class, you call the classs name followed by parentheses with any argumenets required by the class's constructor. \n",
    "2. To create a **Class** you define a new class using the **'class'** keyword followed by the class name and a colon and then define class methods and attributes inside the class definition\n",
    "\n"
   ]
  },
  {
   "cell_type": "code",
   "execution_count": 3,
   "metadata": {},
   "outputs": [
    {
     "name": "stdout",
     "output_type": "stream",
     "text": [
      "The Toyota Corolla is driving\n"
     ]
    }
   ],
   "source": [
    "class Car:\n",
    "    def __init__(self,make,model,year):\n",
    "        self.make = make\n",
    "        self.model= model\n",
    "        self.year = year\n",
    "    \n",
    "    def drive(self):\n",
    "        print(f\"The {self.make} {self.model} is driving\")\n",
    "        \n",
    "# Create an instance of the car class\n",
    "car1 = Car(\"Toyota\", \"Corolla\", 2022)\n",
    "\n",
    "# Call the drive Method on the car instance\n",
    "car1.drive()"
   ]
  },
  {
   "cell_type": "markdown",
   "metadata": {},
   "source": [
    "#### Q3. Where and how should be class attributes created?\n",
    "1. In Python, class attributes should be created inside the class definition, but outside of any class methods. Class attributes are shared by all instances of the class and can be accessed using the class name or any instance of the class.\n",
    "2. Here's an example of creating a class attribute in Python:\n"
   ]
  },
  {
   "cell_type": "code",
   "execution_count": null,
   "metadata": {},
   "outputs": [],
   "source": [
    "class Car:\n",
    "    # Class attribute\n",
    "    wheel_count = 4\n",
    "\n",
    "    def __init__(self, make, model, year):\n",
    "        self.make = make\n",
    "        self.model = model\n",
    "        self.year = year\n",
    "\n",
    "# Accessing the class attribute using the class name\n",
    "print(Car.wheel_count)\n",
    "\n",
    "# Accessing the class attribute using an instance of the class\n",
    "car1 = Car(\"Toyota\", \"Corolla\", 2022)\n",
    "print(car1.wheel_count)"
   ]
  },
  {
   "cell_type": "markdown",
   "metadata": {},
   "source": [
    "#### Q4. Where and how are instance attributes created?\n",
    "1. instance attributes are created inside the constructor method (__init__) of a class. Instance attributes are unique to each instance of the class and can be accessed and modified using the instance name.\n",
    "2. It's important to note that instance attributes are unique to each instance of the class, so each instance can have its own values for instance attributes. Also, instance attributes can be modified directly using the instance name, which can be useful for dynamic object manipulation."
   ]
  },
  {
   "cell_type": "code",
   "execution_count": 5,
   "metadata": {},
   "outputs": [
    {
     "name": "stdout",
     "output_type": "stream",
     "text": [
      "Ismail\n",
      "25\n"
     ]
    }
   ],
   "source": [
    "class Person:\n",
    "    def __init__(self, name, age):\n",
    "        self.name = name # Instance attribute\n",
    "        self.age = age   # Instance attribute\n",
    "\n",
    "person1 = Person(\"Ismail\", 25)\n",
    "print(person1.name)  # Accessing instance attribute\n",
    "print(person1.age)   # Accessing instance attribute"
   ]
  },
  {
   "cell_type": "markdown",
   "metadata": {},
   "source": [
    "#### Q5. What does the term \"self\" in a Python class mean?\n",
    "1. **'self'** is a reference to the instance of a class that a method belongs to. It is a convention to use **'self'** as the first parameter in a method definition in a class.\n",
    "2. When an instance method is called, Python automatically passes the instance as the first argument to the method, which is referred to as **'self'**. By convention, the parameter name is **'self'**, although it could be any valid variable name.\n"
   ]
  },
  {
   "cell_type": "markdown",
   "metadata": {},
   "source": [
    "#### Q6. How does a Python class handle operator overloading?\n",
    "\n",
    "1. Python classes can handle operator overloading by defining special methods that correspond to the operator symbols.\n",
    "2. These special methods are alsos known as **magic methods** or **dunder methods** (short for \"double Underscore\" methods) \n",
    "3. For Example, to overload the **'+'** operator for a custom class we can define the **'___add__ _'** method, which takes two parameters **'self'** and **'other'** and returns the resul of the addition."
   ]
  },
  {
   "cell_type": "code",
   "execution_count": 6,
   "metadata": {},
   "outputs": [
    {
     "name": "stdout",
     "output_type": "stream",
     "text": [
      "4 6\n"
     ]
    }
   ],
   "source": [
    "class Point:\n",
    "    def __init__(self, x, y):\n",
    "        self.x = x\n",
    "        self.y = y\n",
    "\n",
    "    def __add__(self, other):\n",
    "        return Point(self.x + other.x, self.y + other.y)\n",
    "\n",
    "point1 = Point(1, 2)\n",
    "point2 = Point(3, 4)\n",
    "point3 = point1 + point2\n",
    "\n",
    "print(point3.x, point3.y)  # Output: 4 6"
   ]
  },
  {
   "cell_type": "markdown",
   "metadata": {},
   "source": [
    "#### Q7. When do you consider allowing operator overloading of your classes?\n",
    "\n",
    "1. Operator overloading can be useful in situations where it makes sense to apply the familiar operations of built-in types to custom classes. For example, if you are defining a custom class to represent a mathematical vector or matrix, it might be natural to overload the *** + , ' - ',' * ', and ' / '*** operators to perform vector or matrix addition, subtraction, multiplication, and division.\n",
    "\n",
    "2. you should consider allowing operator overloading of your classes if it makes the code more readable, expressive, and intuitive. Operator overloading can make the code more concise and reduce the need for verbose method calls or function names."
   ]
  },
  {
   "cell_type": "markdown",
   "metadata": {},
   "source": [
    "#### Q8. What is the most popular form of operator overloading?\n",
    "the most popular form of operator overloading is probably the binary operator overloading, which involves defining methods for binary operators such as *** + , -, *, /, %, ==, !=, <, >, <=, >=, in, not in, is, is not,*** and so on.\n"
   ]
  },
  {
   "cell_type": "markdown",
   "metadata": {},
   "source": [
    "#### Q9. What are the two most important concepts to grasp in order to comprehend Python OOP code?\n",
    "The two most important concepts to grasp in order to comprehend Python OOP code are:\n",
    "1. **CLASSES:** A class is a blueprint for creating objects that define a set of attributes and methods that the objects will have. Classes allow you to create new types of objects with their own unique behaviors, and to organize your code in a modular and reusable way.\n",
    "\n",
    "2. **Objects:** An object is an instance of a class that has its own set of values for the attributes defined by the class, and can invoke the methods defined by the class. Objects are the fundamental building blocks of OOP, and allow you to create dynamic, flexible, and complex systems by combining simple objects in interesting ways."
   ]
  },
  {
   "cell_type": "markdown",
   "metadata": {},
   "source": [
    "  "
   ]
  }
 ],
 "metadata": {
  "kernelspec": {
   "display_name": "Python 3",
   "language": "python",
   "name": "python3"
  },
  "language_info": {
   "codemirror_mode": {
    "name": "ipython",
    "version": 3
   },
   "file_extension": ".py",
   "mimetype": "text/x-python",
   "name": "python",
   "nbconvert_exporter": "python",
   "pygments_lexer": "ipython3",
   "version": "3.8.5"
  }
 },
 "nbformat": 4,
 "nbformat_minor": 4
}
